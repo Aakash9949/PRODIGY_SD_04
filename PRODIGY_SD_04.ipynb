{
  "nbformat": 4,
  "nbformat_minor": 0,
  "metadata": {
    "colab": {
      "provenance": []
    },
    "kernelspec": {
      "name": "python3",
      "display_name": "Python 3"
    },
    "language_info": {
      "name": "python"
    }
  },
  "cells": [
    {
      "cell_type": "code",
      "source": [
        "def print_grid(grid):\n",
        "    for row in grid:\n",
        "        print(\" \".join(str(num) for num in row))\n",
        "\n",
        "def is_safe(grid, row, col, num):\n",
        "    for x in range(9):\n",
        "        if grid[row][x] == num:\n",
        "            return False\n",
        "\n",
        "    for x in range(9):\n",
        "        if grid[x][col] == num:\n",
        "            return False\n",
        "    start_row = row - row % 3\n",
        "    start_col = col - col % 3\n",
        "    for i in range(3):\n",
        "        for j in range(3):\n",
        "            if grid[i + start_row][j + start_col] == num:\n",
        "                return False\n",
        "    return True\n",
        "\n",
        "def solve_sudoku(grid):\n",
        "    empty = find_empty_location(grid)\n",
        "    if not empty:\n",
        "        return True\n",
        "\n",
        "    row, col = empty\n",
        "\n",
        "    for num in range(1, 10):\n",
        "        if is_safe(grid, row, col, num):\n",
        "            grid[row][col] = num\n",
        "\n",
        "            if solve_sudoku(grid):\n",
        "                return True\n",
        "\n",
        "            grid[row][col] = 0\n",
        "\n",
        "    return False\n",
        "\n",
        "def find_empty_location(grid):\n",
        "    for i in range(9):\n",
        "        for j in range(9):\n",
        "            if grid[i][j] == 0:\n",
        "                return (i, j)\n",
        "    return None\n",
        "\n",
        "sudoku_grid = [\n",
        "    [5, 3, 0, 0, 7, 0, 0, 0, 0],\n",
        "    [6, 0, 0, 1, 9, 5, 0, 0, 0],\n",
        "    [0, 9, 8, 0, 0, 0, 0, 6, 0],\n",
        "    [8, 0, 0, 0, 6, 0, 0, 0, 3],\n",
        "    [4, 0, 0, 8, 0, 3, 0, 0, 1],\n",
        "    [7, 0, 0, 0, 2, 0, 0, 0, 6],\n",
        "    [0, 6, 0, 0, 0, 0, 2, 8, 0],\n",
        "    [0, 0, 0, 4, 1, 9, 0, 0, 5],\n",
        "    [0, 0, 0, 0, 8, 0, 0, 7, 9]\n",
        "]\n",
        "\n",
        "print(\"Unsolved Sudoku:\")\n",
        "print_grid(sudoku_grid)\n",
        "\n",
        "if solve_sudoku(sudoku_grid):\n",
        "    print(\"\\nSolved Sudoku:\")\n",
        "    print_grid(sudoku_grid)\n",
        "else:\n",
        "    print(\"\\nNo solution exists.\")"
      ],
      "metadata": {
        "colab": {
          "base_uri": "https://localhost:8080/"
        },
        "id": "rBT_M-XcPkjb",
        "outputId": "043897ab-c0af-4499-df99-33560e241bbe"
      },
      "execution_count": 9,
      "outputs": [
        {
          "output_type": "stream",
          "name": "stdout",
          "text": [
            "Unsolved Sudoku:\n",
            "5 3 0 0 7 0 0 0 0\n",
            "6 0 0 1 9 5 0 0 0\n",
            "0 9 8 0 0 0 0 6 0\n",
            "8 0 0 0 6 0 0 0 3\n",
            "4 0 0 8 0 3 0 0 1\n",
            "7 0 0 0 2 0 0 0 6\n",
            "0 6 0 0 0 0 2 8 0\n",
            "0 0 0 4 1 9 0 0 5\n",
            "0 0 0 0 8 0 0 7 9\n",
            "\n",
            "Solved Sudoku:\n",
            "5 3 4 6 7 8 9 1 2\n",
            "6 7 2 1 9 5 3 4 8\n",
            "1 9 8 3 4 2 5 6 7\n",
            "8 5 9 7 6 1 4 2 3\n",
            "4 2 6 8 5 3 7 9 1\n",
            "7 1 3 9 2 4 8 5 6\n",
            "9 6 1 5 3 7 2 8 4\n",
            "2 8 7 4 1 9 6 3 5\n",
            "3 4 5 2 8 6 1 7 9\n"
          ]
        }
      ]
    }
  ]
}